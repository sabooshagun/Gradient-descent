{
 "cells": [
  {
   "cell_type": "code",
   "execution_count": 4,
   "metadata": {},
   "outputs": [],
   "source": [
    "import numpy as np"
   ]
  },
  {
   "cell_type": "code",
   "execution_count": 28,
   "metadata": {},
   "outputs": [
    {
     "data": {
      "text/plain": [
       "(7176, 5)"
      ]
     },
     "execution_count": 28,
     "metadata": {},
     "output_type": "execute_result"
    }
   ],
   "source": [
    "traindata = np.loadtxt(\"/Users/shagunsaboo/Downloads/trainp.csv\", delimiter=\",\")\n",
    "traindata.shape"
   ]
  },
  {
   "cell_type": "code",
   "execution_count": 111,
   "metadata": {},
   "outputs": [
    {
     "data": {
      "text/plain": [
       "array([[   8.58,   38.38, 1021.03,   84.37,  482.26],\n",
       "       [  21.79,   58.2 , 1017.21,   66.74,  446.94],\n",
       "       [  16.64,   48.92, 1011.55,   78.76,  452.56],\n",
       "       ...,\n",
       "       [  29.8 ,   69.34, 1009.36,   64.74,  437.65],\n",
       "       [  16.37,   54.3 , 1017.94,   63.63,  459.97],\n",
       "       [  30.11,   62.04, 1010.69,   47.96,  444.42]])"
      ]
     },
     "execution_count": 111,
     "metadata": {},
     "output_type": "execute_result"
    }
   ],
   "source": [
    "traindata"
   ]
  },
  {
   "cell_type": "code",
   "execution_count": 112,
   "metadata": {},
   "outputs": [],
   "source": [
    "def step_gradient(points, learning_rate, m):\n",
    "    m_slope = 0\n",
    "    c_slope = 0\n",
    "    M = points.shape[0]\n",
    "    num_col = points.shape[1]\n",
    "    new_M = np.zeros(num_col)\n",
    "    for i in range(M):\n",
    "        x = points[i, 0:num_col-1]\n",
    "        x = np.append(x, 1)\n",
    "        y = points[i, num_col-1]\n",
    "        for j in range(num_col):\n",
    "            new_M[j] += (-2/M) * (y - (m * x).sum()) * x[j]\n",
    "    new_M = m - learning_rate*new_M\n",
    "    #new_c = c - learning_rate*c_slope\n",
    "    return new_M"
   ]
  },
  {
   "cell_type": "code",
   "execution_count": 113,
   "metadata": {},
   "outputs": [],
   "source": [
    "def gd(points, learning_rate,num_of_iteration):\n",
    "    m = 0    \n",
    "    c = 0\n",
    "    for i in range(num_of_iteration):\n",
    "        m = step_gradient(points, learning_rate, m)\n",
    "#         if i % 100== 0:\n",
    "#             print(i, \"Cost: \", cost(points, m))\n",
    "        print(i,'Cost:',cost(points,m))\n",
    "    return m"
   ]
  },
  {
   "cell_type": "code",
   "execution_count": 114,
   "metadata": {},
   "outputs": [],
   "source": [
    "def cost(points, M):\n",
    "    total_cost = 0\n",
    "    N = points.shape[0]\n",
    "    num_col = points.shape[1]\n",
    "    \n",
    "    for i in range(N):\n",
    "        x = points[i,0:num_col-1]\n",
    "        x = np.append(x, 1)\n",
    "        y = points[i,num_col-1]\n",
    "        total_cost += (y - (M * x).sum()) ** 2\n",
    "        \n",
    "    total_cost = (1/N) * total_cost\n",
    "    return total_cost"
   ]
  },
  {
   "cell_type": "code",
   "execution_count": 115,
   "metadata": {},
   "outputs": [],
   "source": [
    "def run():\n",
    "    traindata =np.loadtxt(\"/Users/shagunsaboo/Downloads/trainp.csv\", delimiter=\",\")\n",
    "    data = traindata[:,0:traindata.shape[1]]\n",
    "    learning_rate = 0.0001\n",
    "    num_iterations = 100\n",
    "#     for i in range(num_iterations):\n",
    "    m = gd(data, learning_rate,num_iterations)\n",
    "#         m_list.append(m)\n",
    "\n",
    "#         c_list.append(c)\n",
    "    return m[0:traindata.shape[1]-1], m[traindata.shape[1]-1]"
   ]
  },
  {
   "cell_type": "code",
   "execution_count": 116,
   "metadata": {
    "scrolled": true
   },
   "outputs": [
    {
     "name": "stdout",
     "output_type": "stream",
     "text": [
      "0 Cost: 8772344518.631073\n",
      "1 Cost: 372580082470000.1\n",
      "2 Cost: 1.5824266969013418e+19\n",
      "3 Cost: 6.720902079539381e+23\n",
      "4 Cost: 2.8545097761057587e+28\n",
      "5 Cost: 1.212370893884804e+33\n",
      "6 Cost: 5.149196533298476e+37\n",
      "7 Cost: 2.1869730684125104e+42\n",
      "8 Cost: 9.288538844909701e+46\n",
      "9 Cost: 3.9450396129488184e+51\n",
      "10 Cost: 1.6755420639990602e+56\n",
      "11 Cost: 7.116382808971892e+60\n",
      "12 Cost: 3.0224788366673583e+65\n",
      "13 Cost: 1.283710919342998e+70\n",
      "14 Cost: 5.452192764590095e+74\n",
      "15 Cost: 2.3156619994681066e+79\n",
      "16 Cost: 9.835108051583708e+83\n",
      "17 Cost: 4.177179156912581e+88\n",
      "18 Cost: 1.7741366558891064e+93\n",
      "19 Cost: 7.535134969159073e+97\n",
      "20 Cost: 3.2003317678472876e+102\n",
      "21 Cost: 1.3592488344552917e+107\n",
      "22 Cost: 5.773018324318336e+111\n",
      "23 Cost: 2.4519234247694753e+116\n",
      "24 Cost: 1.0413839248714206e+121\n",
      "25 Cost: 4.4229785809177986e+125\n",
      "26 Cost: 1.8785328887876916e+130\n",
      "27 Cost: 7.978527930209232e+134\n",
      "28 Cost: 3.388650170198022e+139\n",
      "29 Cost: 1.439231657321765e+144\n",
      "30 Cost: 6.112722350788073e+148\n",
      "31 Cost: 2.5962029356244817e+153\n",
      "32 Cost: 1.102662495717015e+158\n",
      "33 Cost: 4.683241678749624e+162\n",
      "34 Cost: 1.9890721509772359e+167\n",
      "35 Cost: 8.44801164062391e+171\n",
      "36 Cost: 3.588049867625669e+176\n",
      "37 Cost: 1.5239209414273227e+181\n",
      "38 Cost: 6.472415717169226e+185\n",
      "39 Cost: 2.748972343448632e+190\n",
      "40 Cost: 1.1675469060183491e+195\n",
      "41 Cost: 4.9588195421526855e+199\n",
      "42 Cost: 2.1061159191876513e+204\n",
      "43 Cost: 8.945121368804605e+208\n",
      "44 Cost: 3.79918292120917e+213\n",
      "45 Cost: 1.6135936309533116e+218\n",
      "46 Cost: 6.853274664185999e+222\n",
      "47 Cost: 2.9107312226452816e+227\n",
      "48 Cost: 1.2362493356288702e+232\n",
      "49 Cost: 5.2506133440032615e+236\n",
      "50 Cost: 2.2300469406684185e+241\n",
      "51 Cost: 9.471482723564664e+245\n",
      "52 Cost: 4.022739761518037e+250\n",
      "53 Cost: 1.70854296641823e+255\n",
      "54 Cost: 7.25654464656607e+259\n",
      "55 Cost: 3.0820085442742187e+264\n",
      "56 Cost: 1.308994449786004e+269\n",
      "57 Cost: 5.559577285253938e+273\n",
      "58 Cost: 2.3612704848186993e+278\n",
      "59 Cost: 1.0028816970067926e+283\n",
      "60 Cost: 4.2594514464040835e+287\n",
      "61 Cost: 1.8090794436096914e+292\n",
      "62 Cost: 7.683544405827385e+296\n",
      "63 Cost: 3.263364405850741e+301\n"
     ]
    },
    {
     "name": "stderr",
     "output_type": "stream",
     "text": [
      "/Users/shagunsaboo/anaconda3/lib/python3.7/site-packages/ipykernel_launcher.py:10: RuntimeWarning: overflow encountered in double_scalars\n",
      "  # Remove the CWD from sys.path while we load stuff.\n"
     ]
    },
    {
     "name": "stdout",
     "output_type": "stream",
     "text": [
      "64 Cost: inf\n",
      "65 Cost: inf\n",
      "66 Cost: inf\n",
      "67 Cost: inf\n",
      "68 Cost: inf\n",
      "69 Cost: inf\n",
      "70 Cost: inf\n",
      "71 Cost: inf\n",
      "72 Cost: inf\n",
      "73 Cost: inf\n",
      "74 Cost: inf\n",
      "75 Cost: inf\n",
      "76 Cost: inf\n",
      "77 Cost: inf\n",
      "78 Cost: inf\n",
      "79 Cost: inf\n",
      "80 Cost: inf\n",
      "81 Cost: inf\n",
      "82 Cost: inf\n",
      "83 Cost: inf\n",
      "84 Cost: inf\n",
      "85 Cost: inf\n",
      "86 Cost: inf\n",
      "87 Cost: inf\n",
      "88 Cost: inf\n",
      "89 Cost: inf\n",
      "90 Cost: inf\n",
      "91 Cost: inf\n",
      "92 Cost: inf\n",
      "93 Cost: inf\n",
      "94 Cost: inf\n",
      "95 Cost: inf\n",
      "96 Cost: inf\n",
      "97 Cost: inf\n",
      "98 Cost: inf\n",
      "99 Cost: inf\n",
      "[-2.18785562e+229 -6.05447569e+229 -1.13060121e+231 -8.17804794e+229] -1.1157655635959579e+228\n"
     ]
    }
   ],
   "source": [
    "m,c=run()\n",
    "print(m,c)"
   ]
  },
  {
   "cell_type": "code",
   "execution_count": null,
   "metadata": {},
   "outputs": [],
   "source": [
    "testdata = np.loadtxt(\"/Users/shagunsaboo/Downloads/testp.csv\", delimiter=\",\")\n",
    "testdata.shape"
   ]
  },
  {
   "cell_type": "code",
   "execution_count": null,
   "metadata": {},
   "outputs": [],
   "source": []
  }
 ],
 "metadata": {
  "kernelspec": {
   "display_name": "Python 3",
   "language": "python",
   "name": "python3"
  },
  "language_info": {
   "codemirror_mode": {
    "name": "ipython",
    "version": 3
   },
   "file_extension": ".py",
   "mimetype": "text/x-python",
   "name": "python",
   "nbconvert_exporter": "python",
   "pygments_lexer": "ipython3",
   "version": "3.7.3"
  }
 },
 "nbformat": 4,
 "nbformat_minor": 2
}
